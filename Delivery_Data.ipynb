{
  "nbformat": 4,
  "nbformat_minor": 0,
  "metadata": {
    "colab": {
      "provenance": [],
      "mount_file_id": "1S0nGYQrlwgdefkgyqqtT69bGO5zxDHpZ",
      "authorship_tag": "ABX9TyM1k/h1N8K5j4GR2cPPOTNf",
      "include_colab_link": true
    },
    "kernelspec": {
      "name": "python3",
      "display_name": "Python 3"
    },
    "language_info": {
      "name": "python"
    }
  },
  "cells": [
    {
      "cell_type": "markdown",
      "metadata": {
        "id": "view-in-github",
        "colab_type": "text"
      },
      "source": [
        "<a href=\"https://colab.research.google.com/github/Titophilip/delivery_data/blob/main/Delivery_Data.ipynb\" target=\"_parent\"><img src=\"https://colab.research.google.com/assets/colab-badge.svg\" alt=\"Open In Colab\"/></a>"
      ]
    },
    {
      "cell_type": "code",
      "execution_count": 1,
      "metadata": {
        "id": "XMNqIvLeNz3n"
      },
      "outputs": [],
      "source": [
        "import pandas as pd\n",
        "import seaborn as sns\n",
        "import matplotlib.pyplot as plt\n",
        "import numpy as np"
      ]
    },
    {
      "cell_type": "code",
      "source": [
        "df = pd.read_csv(\"/content/drive/MyDrive/Colab Notebooks/Delivery_dataset.csv\")"
      ],
      "metadata": {
        "id": "niIAHOgrOZ_6"
      },
      "execution_count": 46,
      "outputs": []
    },
    {
      "cell_type": "code",
      "source": [
        "df.head()"
      ],
      "metadata": {
        "colab": {
          "base_uri": "https://localhost:8080/",
          "height": 354
        },
        "id": "hbIzRuafPFQV",
        "outputId": "af4ae52f-a0cf-4f3f-a458-44996dd3e991"
      },
      "execution_count": 47,
      "outputs": [
        {
          "output_type": "execute_result",
          "data": {
            "text/plain": [
              "    S/N         Warehouse        Order date    Delivery date Order Month  \\\n",
              "0  2596            Butler  12/30/2021 23:50   1/4/2022 15:28         Dec   \n",
              "1  3994  Pittsburgh Mills   3/28/2022 21:27  3/31/2022 14:21         Mar   \n",
              "2  4140      McKees Rocks    4/4/2022 22:52   4/6/2022 15:47         Apr   \n",
              "3  5088            Beaver    5/19/2022 9:00  5/24/2022 11:25         May   \n",
              "4  5161        Washington   5/21/2022 16:01  5/24/2022 11:27         May   \n",
              "\n",
              "  Month Year  Season 1st vs 2nd Order Interval (Days) Interval Categories  \\\n",
              "0   Dec 2021  Winter                               83     Within 3 months   \n",
              "1   Mar 2022  Spring                                4                 NaN   \n",
              "2   Apr 2022  Spring                               43                 NaN   \n",
              "3   May 2022  Spring                              NaN                 NaN   \n",
              "4   May 2022  Spring                              NaN                 NaN   \n",
              "\n",
              "   Delivery Time (Days) Customer  Zipcode  \n",
              "0                     5      163    15226  \n",
              "1                     3      163    15226  \n",
              "2                     2      163    15226  \n",
              "3                     5      163    15226  \n",
              "4                     3      163    15226  "
            ],
            "text/html": [
              "\n",
              "  <div id=\"df-e83ed663-1a59-4e84-ac68-6715b3ae4230\">\n",
              "    <div class=\"colab-df-container\">\n",
              "      <div>\n",
              "<style scoped>\n",
              "    .dataframe tbody tr th:only-of-type {\n",
              "        vertical-align: middle;\n",
              "    }\n",
              "\n",
              "    .dataframe tbody tr th {\n",
              "        vertical-align: top;\n",
              "    }\n",
              "\n",
              "    .dataframe thead th {\n",
              "        text-align: right;\n",
              "    }\n",
              "</style>\n",
              "<table border=\"1\" class=\"dataframe\">\n",
              "  <thead>\n",
              "    <tr style=\"text-align: right;\">\n",
              "      <th></th>\n",
              "      <th>S/N</th>\n",
              "      <th>Warehouse</th>\n",
              "      <th>Order date</th>\n",
              "      <th>Delivery date</th>\n",
              "      <th>Order Month</th>\n",
              "      <th>Month Year</th>\n",
              "      <th>Season</th>\n",
              "      <th>1st vs 2nd Order Interval (Days)</th>\n",
              "      <th>Interval Categories</th>\n",
              "      <th>Delivery Time (Days)</th>\n",
              "      <th>Customer</th>\n",
              "      <th>Zipcode</th>\n",
              "    </tr>\n",
              "  </thead>\n",
              "  <tbody>\n",
              "    <tr>\n",
              "      <th>0</th>\n",
              "      <td>2596</td>\n",
              "      <td>Butler</td>\n",
              "      <td>12/30/2021 23:50</td>\n",
              "      <td>1/4/2022 15:28</td>\n",
              "      <td>Dec</td>\n",
              "      <td>Dec 2021</td>\n",
              "      <td>Winter</td>\n",
              "      <td>83</td>\n",
              "      <td>Within 3 months</td>\n",
              "      <td>5</td>\n",
              "      <td>163</td>\n",
              "      <td>15226</td>\n",
              "    </tr>\n",
              "    <tr>\n",
              "      <th>1</th>\n",
              "      <td>3994</td>\n",
              "      <td>Pittsburgh Mills</td>\n",
              "      <td>3/28/2022 21:27</td>\n",
              "      <td>3/31/2022 14:21</td>\n",
              "      <td>Mar</td>\n",
              "      <td>Mar 2022</td>\n",
              "      <td>Spring</td>\n",
              "      <td>4</td>\n",
              "      <td>NaN</td>\n",
              "      <td>3</td>\n",
              "      <td>163</td>\n",
              "      <td>15226</td>\n",
              "    </tr>\n",
              "    <tr>\n",
              "      <th>2</th>\n",
              "      <td>4140</td>\n",
              "      <td>McKees Rocks</td>\n",
              "      <td>4/4/2022 22:52</td>\n",
              "      <td>4/6/2022 15:47</td>\n",
              "      <td>Apr</td>\n",
              "      <td>Apr 2022</td>\n",
              "      <td>Spring</td>\n",
              "      <td>43</td>\n",
              "      <td>NaN</td>\n",
              "      <td>2</td>\n",
              "      <td>163</td>\n",
              "      <td>15226</td>\n",
              "    </tr>\n",
              "    <tr>\n",
              "      <th>3</th>\n",
              "      <td>5088</td>\n",
              "      <td>Beaver</td>\n",
              "      <td>5/19/2022 9:00</td>\n",
              "      <td>5/24/2022 11:25</td>\n",
              "      <td>May</td>\n",
              "      <td>May 2022</td>\n",
              "      <td>Spring</td>\n",
              "      <td>NaN</td>\n",
              "      <td>NaN</td>\n",
              "      <td>5</td>\n",
              "      <td>163</td>\n",
              "      <td>15226</td>\n",
              "    </tr>\n",
              "    <tr>\n",
              "      <th>4</th>\n",
              "      <td>5161</td>\n",
              "      <td>Washington</td>\n",
              "      <td>5/21/2022 16:01</td>\n",
              "      <td>5/24/2022 11:27</td>\n",
              "      <td>May</td>\n",
              "      <td>May 2022</td>\n",
              "      <td>Spring</td>\n",
              "      <td>NaN</td>\n",
              "      <td>NaN</td>\n",
              "      <td>3</td>\n",
              "      <td>163</td>\n",
              "      <td>15226</td>\n",
              "    </tr>\n",
              "  </tbody>\n",
              "</table>\n",
              "</div>\n",
              "      <button class=\"colab-df-convert\" onclick=\"convertToInteractive('df-e83ed663-1a59-4e84-ac68-6715b3ae4230')\"\n",
              "              title=\"Convert this dataframe to an interactive table.\"\n",
              "              style=\"display:none;\">\n",
              "        \n",
              "  <svg xmlns=\"http://www.w3.org/2000/svg\" height=\"24px\"viewBox=\"0 0 24 24\"\n",
              "       width=\"24px\">\n",
              "    <path d=\"M0 0h24v24H0V0z\" fill=\"none\"/>\n",
              "    <path d=\"M18.56 5.44l.94 2.06.94-2.06 2.06-.94-2.06-.94-.94-2.06-.94 2.06-2.06.94zm-11 1L8.5 8.5l.94-2.06 2.06-.94-2.06-.94L8.5 2.5l-.94 2.06-2.06.94zm10 10l.94 2.06.94-2.06 2.06-.94-2.06-.94-.94-2.06-.94 2.06-2.06.94z\"/><path d=\"M17.41 7.96l-1.37-1.37c-.4-.4-.92-.59-1.43-.59-.52 0-1.04.2-1.43.59L10.3 9.45l-7.72 7.72c-.78.78-.78 2.05 0 2.83L4 21.41c.39.39.9.59 1.41.59.51 0 1.02-.2 1.41-.59l7.78-7.78 2.81-2.81c.8-.78.8-2.07 0-2.86zM5.41 20L4 18.59l7.72-7.72 1.47 1.35L5.41 20z\"/>\n",
              "  </svg>\n",
              "      </button>\n",
              "      \n",
              "  <style>\n",
              "    .colab-df-container {\n",
              "      display:flex;\n",
              "      flex-wrap:wrap;\n",
              "      gap: 12px;\n",
              "    }\n",
              "\n",
              "    .colab-df-convert {\n",
              "      background-color: #E8F0FE;\n",
              "      border: none;\n",
              "      border-radius: 50%;\n",
              "      cursor: pointer;\n",
              "      display: none;\n",
              "      fill: #1967D2;\n",
              "      height: 32px;\n",
              "      padding: 0 0 0 0;\n",
              "      width: 32px;\n",
              "    }\n",
              "\n",
              "    .colab-df-convert:hover {\n",
              "      background-color: #E2EBFA;\n",
              "      box-shadow: 0px 1px 2px rgba(60, 64, 67, 0.3), 0px 1px 3px 1px rgba(60, 64, 67, 0.15);\n",
              "      fill: #174EA6;\n",
              "    }\n",
              "\n",
              "    [theme=dark] .colab-df-convert {\n",
              "      background-color: #3B4455;\n",
              "      fill: #D2E3FC;\n",
              "    }\n",
              "\n",
              "    [theme=dark] .colab-df-convert:hover {\n",
              "      background-color: #434B5C;\n",
              "      box-shadow: 0px 1px 3px 1px rgba(0, 0, 0, 0.15);\n",
              "      filter: drop-shadow(0px 1px 2px rgba(0, 0, 0, 0.3));\n",
              "      fill: #FFFFFF;\n",
              "    }\n",
              "  </style>\n",
              "\n",
              "      <script>\n",
              "        const buttonEl =\n",
              "          document.querySelector('#df-e83ed663-1a59-4e84-ac68-6715b3ae4230 button.colab-df-convert');\n",
              "        buttonEl.style.display =\n",
              "          google.colab.kernel.accessAllowed ? 'block' : 'none';\n",
              "\n",
              "        async function convertToInteractive(key) {\n",
              "          const element = document.querySelector('#df-e83ed663-1a59-4e84-ac68-6715b3ae4230');\n",
              "          const dataTable =\n",
              "            await google.colab.kernel.invokeFunction('convertToInteractive',\n",
              "                                                     [key], {});\n",
              "          if (!dataTable) return;\n",
              "\n",
              "          const docLinkHtml = 'Like what you see? Visit the ' +\n",
              "            '<a target=\"_blank\" href=https://colab.research.google.com/notebooks/data_table.ipynb>data table notebook</a>'\n",
              "            + ' to learn more about interactive tables.';\n",
              "          element.innerHTML = '';\n",
              "          dataTable['output_type'] = 'display_data';\n",
              "          await google.colab.output.renderOutput(dataTable, element);\n",
              "          const docLink = document.createElement('div');\n",
              "          docLink.innerHTML = docLinkHtml;\n",
              "          element.appendChild(docLink);\n",
              "        }\n",
              "      </script>\n",
              "    </div>\n",
              "  </div>\n",
              "  "
            ]
          },
          "metadata": {},
          "execution_count": 47
        }
      ]
    },
    {
      "cell_type": "code",
      "source": [
        "df[\"Order Month\"] = df[\"Order Month\"].astype(\"category\")\n",
        "df[\"Order Month\"] = df[\"Order Month\"].cat.set_categories([\"Jan\", \"Feb\", \"Mar\", \"Apr\", \"May\", \"Jun\", \"Jul\", \"Aug\", \"Sep\", \"Oct\", \"Nov\", \"Dec\"], ordered=True)"
      ],
      "metadata": {
        "id": "clnXliuKIsuo"
      },
      "execution_count": 48,
      "outputs": []
    },
    {
      "cell_type": "code",
      "source": [
        "df[\"Month Year\"] = df[\"Month Year\"].astype(\"category\")\n",
        "df[\"Month Year\"] = df[\"Month Year\"].cat.set_categories([\"Feb 2021\", \"Mar 2021\", \"Apr 2021\", \"May 2021\", \"Jun 2021\", \"Jul 2021\", \"Aug 2021\", \"Sep 2021\", \"Oct 2021\", \"Nov 2021\", \"Dec 2021\", \"Jan 2022\", \"Feb 2022\", \"Mar 2022\", \"Apr 2022\", \"May 2022\", \"Jun 2022\", \"Jul 2022\", \"Aug 2022\", \"Sep 2022\", \"Oct 2022\", \"Nov 2022\"], ordered=True)"
      ],
      "metadata": {
        "id": "H-wvh0uNLGAt"
      },
      "execution_count": 49,
      "outputs": []
    },
    {
      "cell_type": "code",
      "source": [
        "# orders_zipcode_month = df.groupby([\"Zipcode\", \"Order Month\"]).count()['Customer'].unstack()\n",
        "# orders_zipcode_month\n",
        "# orders_zipcode_month.to_csv(\"/content/drive/MyDrive/Colab Notebooks/orders_zipcode_month.csv\")"
      ],
      "metadata": {
        "id": "zwqQeQtYHWQf"
      },
      "execution_count": 40,
      "outputs": []
    },
    {
      "cell_type": "code",
      "source": [
        "# orders_zipcode_month_year = df.groupby([\"Zipcode\", \"Month Year\"]).count()['Customer'].unstack()\n",
        "# orders_zipcode_month_year\n",
        "# orders_zipcode_month_year.to_csv(\"/content/drive/MyDrive/Colab Notebooks/orders_zipcode_month_year.csv\")"
      ],
      "metadata": {
        "id": "P2ANDchWIiuZ"
      },
      "execution_count": 44,
      "outputs": []
    },
    {
      "cell_type": "code",
      "source": [
        "# returning_customers = df[\"Interval Categories\"].value_counts(normalize = True).reset_index()\n",
        "# returning_customers.rename(columns = {\"Interval Categories\": \"Proportion Returned\", \"index\": \"Interval Categories\"}, inplace = True)\n",
        "# returning_customers.to_csv(\"/content/drive/MyDrive/Colab Notebooks/returning_customers.csv\")"
      ],
      "metadata": {
        "id": "fWBf0u-LMvYe"
      },
      "execution_count": 45,
      "outputs": []
    },
    {
      "cell_type": "code",
      "source": [
        "delivery_speed_zipcode = df.groupby([\"Zipcode\"]).agg({\"count\", \"mean\"})['Delivery Time (Days)'].sort_values(by = \"mean\").reset_index()\n",
        "delivery_speed_zipcode.columns = [\"Zipcode\", \"Number of Deliveries\", \"Average Delivery Time (Days)\"]\n",
        "delivery_speed_zipcode\n",
        "delivery_speed_zipcode.to_csv(\"/content/drive/MyDrive/Colab Notebooks/delivery_speed_zipcode.csv\")"
      ],
      "metadata": {
        "id": "EgN8YNUIO2vg"
      },
      "execution_count": 66,
      "outputs": []
    },
    {
      "cell_type": "code",
      "source": [
        "delivery_speed_zipcode_month = df.groupby([\"Zipcode\", \"Order Month\"]).mean()['Delivery Time (Days)'].unstack()\n",
        "delivery_speed_zipcode_month\n",
        "delivery_speed_zipcode_month.to_csv(\"/content/drive/MyDrive/Colab Notebooks/delivery_speed_zipcode_month.csv\")"
      ],
      "metadata": {
        "id": "Qj6heqoDSb_-"
      },
      "execution_count": 86,
      "outputs": []
    },
    {
      "cell_type": "code",
      "source": [
        "delivery_speed_zipcode_month_year = df.groupby([\"Zipcode\", \"Month Year\"]).mean()['Delivery Time (Days)'].unstack()\n",
        "delivery_speed_zipcode_month_year\n",
        "delivery_speed_zipcode_month_year.to_csv(\"/content/drive/MyDrive/Colab Notebooks/delivery_speed_zipcode_month_year.csv\")"
      ],
      "metadata": {
        "id": "KfcrPLuXatJT"
      },
      "execution_count": 87,
      "outputs": []
    },
    {
      "cell_type": "code",
      "source": [
        "orders_zipcode_warehouse = df.groupby([\"Zipcode\", \"Warehouse\"]).count()['Customer'].sort_values()\n",
        "orders_zipcode_warehouse\n",
        "orders_zipcode_warehouse.to_csv(\"/content/drive/MyDrive/Colab Notebooks/orders_zipcode_warehouse.csv\")"
      ],
      "metadata": {
        "id": "V7q3vyaEgOoI"
      },
      "execution_count": 85,
      "outputs": []
    },
    {
      "cell_type": "code",
      "source": [
        "delivery_speed_season = df.groupby([\"Season\"]).agg({\"count\", \"mean\"})['Delivery Time (Days)'].sort_values(\"mean\").reset_index()\n",
        "delivery_speed_season.columns = [\"Season\", \"Number of Deliveries\", \"Average Delivery Time (Days)\"]\n",
        "delivery_speed_season\n",
        "delivery_speed_season.to_csv(\"/content/drive/MyDrive/Colab Notebooks/delivery_speed_season.csv\")"
      ],
      "metadata": {
        "id": "fmwmeIjhfAkW"
      },
      "execution_count": 88,
      "outputs": []
    },
    {
      "cell_type": "code",
      "source": [
        "delivery_speed_warehouse = df.groupby([\"Warehouse\"]).agg({\"count\", \"mean\"})['Delivery Time (Days)'].sort_values(\"mean\").reset_index()\n",
        "delivery_speed_warehouse.columns = [\"Warehouse\", \"Number of Deliveries\", \"Average Delivery Time (Days)\"]\n",
        "delivery_speed_warehouse\n",
        "delivery_speed_warehouse.to_csv(\"/content/drive/MyDrive/Colab Notebooks/delivery_speed_warehouse.csv\")"
      ],
      "metadata": {
        "id": "hrHWaX5Yb_ms"
      },
      "execution_count": 89,
      "outputs": []
    }
  ]
}